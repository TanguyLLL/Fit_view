{
 "cells": [
  {
   "cell_type": "code",
   "execution_count": 1,
   "metadata": {},
   "outputs": [],
   "source": [
    "import json\n",
    "import pandas as pd\n",
    "import os\n",
    "import sys\n",
    "import numpy as np\n",
    "#import re\n",
    "#import psycopg2\n",
    "import sqlite3\n",
    "#from sqlalchemy import create_engine\n",
    "import build_SQL\n",
    "import importlib\n",
    "import time\n",
    "\n",
    "\n",
    "from pandas.io.json import json_normalize"
   ]
  },
  {
   "cell_type": "code",
   "execution_count": 2,
   "metadata": {},
   "outputs": [],
   "source": [
    "# Usefull paths : to adapt with local path where the data is stored\n",
    "# This is the only data that has to be changed by the user\n",
    "fitbit_path = '/Users/tanguylienart/Documents/Fitbit/data/Tanguy/user-site-export/'  # path to the user-site-export folder\n",
    "data_path= '/Users/tanguylienart/Documents/Fitbit/data/'  # Path to the folder used to save the produced the data\n",
    "\n",
    "pd.options.display.max_rows = 999\n",
    "pd.options.display.max_columns=200\n",
    "pd.set_option('max_columns', 500)\n",
    "pd.set_option('max_rows', 20000000)\n",
    "pd.set_option('max_colwidth', 5000)"
   ]
  },
  {
   "cell_type": "code",
   "execution_count": 3,
   "metadata": {},
   "outputs": [
    {
     "name": "stdout",
     "output_type": "stream",
     "text": [
      "Excluded file     weight-2017-05-22.json\n",
      "Excluded file     height-2017-05-22.json\n",
      "Excluded file     water_logs-0.json\n",
      "Excluded file     weight-2018-09-14.json\n",
      "Excluded file     badge.json\n",
      "-------------------- Builded categories and files per category  --------------------\n",
      "time_in_heart_rate_zones_files   829 \n",
      " resting_heart_rate_files   3 \n",
      " heart_rate_files   829 \n",
      " very_active_minutes_files   29 \n",
      " lightly_active_minutes_files   29 \n",
      " moderately_active_minutes_files   29 \n",
      " sedentary_minutes_files   29 \n",
      " steps_files   29 \n",
      " sleep_files   29 \n",
      " distance_files   29 \n",
      " calories_files   29 \n",
      " swim_lengths_data_files   14 \n",
      " altitude_files   14 \n",
      " exercise_files   7 \n",
      " demographic_files   3 \n",
      "\n",
      "File transformed = 40 - 4.825 % done!  \n",
      "File transformed = 80 - 9.65 % done!  \n",
      "File transformed = 120 - 14.475 % done!  \n",
      "File transformed = 160 - 19.3 % done!  \n",
      "File transformed = 200 - 24.125 % done!  \n",
      "File transformed = 240 - 28.951 % done!  \n",
      "File transformed = 280 - 33.776 % done!  \n",
      "File transformed = 320 - 38.601 % done!  \n",
      "File transformed = 360 - 43.426 % done!  \n",
      "File transformed = 400 - 48.251 % done!  \n",
      "File transformed = 440 - 53.076 % done!  \n",
      "File transformed = 480 - 57.901 % done!  \n",
      "File transformed = 520 - 62.726 % done!  \n",
      "File transformed = 560 - 67.551 % done!  \n",
      "File transformed = 600 - 72.376 % done!  \n",
      "File transformed = 640 - 77.201 % done!  \n",
      "File transformed = 680 - 82.027 % done!  \n",
      "File transformed = 720 - 86.852 % done!  \n",
      "File transformed = 760 - 91.677 % done!  \n",
      "File transformed = 800 - 96.502 % done!  \n"
     ]
    }
   ],
   "source": [
    "a=time.time()\n",
    "importlib.reload(build_SQL)\n",
    "test = build_SQL.to_sql(data_path,fitbit_path)"
   ]
  },
  {
   "cell_type": "code",
   "execution_count": 4,
   "metadata": {},
   "outputs": [
    {
     "name": "stdout",
     "output_type": "stream",
     "text": [
      "14.885501563549042 minutes\n"
     ]
    }
   ],
   "source": [
    "b=time.time()\n",
    "print((b-a)/60, 'minutes')"
   ]
  },
  {
   "cell_type": "code",
   "execution_count": 5,
   "metadata": {},
   "outputs": [],
   "source": [
    "conn = sqlite3.connect(data_path+'fitbit.db')\n",
    "cur = conn.cursor()\n",
    "x =cur.execute(\"select * from minutes_in_zones \").fetchall()\n",
    "y=pd.read_sql_query(\"select * from minutes_in_zones\",conn)\n",
    "conn.close()"
   ]
  },
  {
   "cell_type": "code",
   "execution_count": null,
   "metadata": {},
   "outputs": [],
   "source": []
  },
  {
   "cell_type": "code",
   "execution_count": null,
   "metadata": {},
   "outputs": [],
   "source": []
  },
  {
   "cell_type": "code",
   "execution_count": null,
   "metadata": {},
   "outputs": [],
   "source": []
  },
  {
   "cell_type": "code",
   "execution_count": null,
   "metadata": {},
   "outputs": [],
   "source": []
  },
  {
   "cell_type": "code",
   "execution_count": null,
   "metadata": {},
   "outputs": [],
   "source": []
  },
  {
   "cell_type": "code",
   "execution_count": 6,
   "metadata": {},
   "outputs": [],
   "source": [
    "# conn = sqlite3.connect(data_path+'fitbit.db')\n",
    "# cur = conn.cursor()\n",
    "# x =cur.execute(\"DROP TABLE minutes_in_zones\").fetchall()\n",
    "# conn.close()"
   ]
  },
  {
   "cell_type": "code",
   "execution_count": null,
   "metadata": {},
   "outputs": [],
   "source": []
  },
  {
   "cell_type": "code",
   "execution_count": null,
   "metadata": {},
   "outputs": [],
   "source": []
  },
  {
   "cell_type": "code",
   "execution_count": null,
   "metadata": {},
   "outputs": [],
   "source": []
  },
  {
   "cell_type": "code",
   "execution_count": null,
   "metadata": {},
   "outputs": [],
   "source": []
  },
  {
   "cell_type": "code",
   "execution_count": null,
   "metadata": {},
   "outputs": [],
   "source": []
  },
  {
   "cell_type": "code",
   "execution_count": null,
   "metadata": {},
   "outputs": [],
   "source": []
  },
  {
   "cell_type": "code",
   "execution_count": null,
   "metadata": {},
   "outputs": [],
   "source": []
  },
  {
   "cell_type": "code",
   "execution_count": null,
   "metadata": {},
   "outputs": [],
   "source": []
  },
  {
   "cell_type": "code",
   "execution_count": null,
   "metadata": {},
   "outputs": [],
   "source": []
  },
  {
   "cell_type": "code",
   "execution_count": null,
   "metadata": {},
   "outputs": [],
   "source": []
  },
  {
   "cell_type": "code",
   "execution_count": null,
   "metadata": {},
   "outputs": [],
   "source": []
  },
  {
   "cell_type": "code",
   "execution_count": null,
   "metadata": {},
   "outputs": [],
   "source": []
  },
  {
   "cell_type": "code",
   "execution_count": null,
   "metadata": {},
   "outputs": [],
   "source": []
  },
  {
   "cell_type": "code",
   "execution_count": null,
   "metadata": {},
   "outputs": [],
   "source": []
  },
  {
   "cell_type": "code",
   "execution_count": null,
   "metadata": {},
   "outputs": [],
   "source": []
  },
  {
   "cell_type": "code",
   "execution_count": null,
   "metadata": {},
   "outputs": [],
   "source": []
  },
  {
   "cell_type": "code",
   "execution_count": null,
   "metadata": {},
   "outputs": [],
   "source": []
  },
  {
   "cell_type": "code",
   "execution_count": null,
   "metadata": {},
   "outputs": [],
   "source": []
  },
  {
   "cell_type": "code",
   "execution_count": null,
   "metadata": {},
   "outputs": [],
   "source": []
  },
  {
   "cell_type": "code",
   "execution_count": null,
   "metadata": {},
   "outputs": [],
   "source": []
  },
  {
   "cell_type": "code",
   "execution_count": null,
   "metadata": {},
   "outputs": [],
   "source": []
  },
  {
   "cell_type": "code",
   "execution_count": null,
   "metadata": {},
   "outputs": [],
   "source": []
  },
  {
   "cell_type": "code",
   "execution_count": null,
   "metadata": {},
   "outputs": [],
   "source": []
  }
 ],
 "metadata": {
  "kernelspec": {
   "display_name": "Python 3",
   "language": "python",
   "name": "python3"
  },
  "language_info": {
   "codemirror_mode": {
    "name": "ipython",
    "version": 3
   },
   "file_extension": ".py",
   "mimetype": "text/x-python",
   "name": "python",
   "nbconvert_exporter": "python",
   "pygments_lexer": "ipython3",
   "version": "3.7.4"
  }
 },
 "nbformat": 4,
 "nbformat_minor": 4
}
